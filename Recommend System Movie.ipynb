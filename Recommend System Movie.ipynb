{
 "cells": [
  {
   "cell_type": "markdown",
   "id": "79f2d9c5",
   "metadata": {},
   "source": [
    "# Recommend system là gì?"
   ]
  },
  {
   "cell_type": "markdown",
   "id": "0df22c05",
   "metadata": {},
   "source": [
    "-Recommend system hay còn gọi là hệ thống gợi ý là một lớp con trong hệ thống lọc thông tin cung cấp đề xuất cho các mục phù hợp nhất với một người dùng cụ thể  \n",
    "-Nó dựa trên lịch sử hành vi, các hoạt động hoặc các thông tin cá nhân của họ để dự đoán và đề xuất các mục mà người dùng có thể quan tâm.  \n",
    "-Mục tiêu của hệ thống này là cung cấp trải nghiệm cá nhân hóa và giúp người dùng khám phá hoặc tiêu dùng nội dung một cách hiệu quả hơn.  \n",
    "-Ví dụ: Khi chúng ta xem một video trên youtube thì ngay sau đó sẽ có nhiều video với nội dung tương tự như video chúng ta vừa xem được đề xuất  \n",
    "-Có hai thực thể chính trong Recommendation Systems là users và items. Users là người dùng. Items là sản phẩm, ví dụ như các bộ phim, bài hát, cuốn sách, clip, hoặc cũng có thể là các users khác trong bài toán gợi ý kết bạn. Mục đích chính của các Recommender Systems là dự đoán mức độ quan tâm của một user tới một item nào đó, qua đó có chiến lược recommend phù hợp."
   ]
  },
  {
   "cell_type": "markdown",
   "id": "1dabd237",
   "metadata": {},
   "source": [
    "# Các phương pháp (mô hình) của Recommend system"
   ]
  },
  {
   "cell_type": "markdown",
   "id": "b48345c8",
   "metadata": {},
   "source": [
    "## Có 3 phương pháp chính cho mô hình Recommend system"
   ]
  },
  {
   "cell_type": "markdown",
   "id": "4ae74b92",
   "metadata": {},
   "source": [
    "### `1. Collaborative Filtering (Lọc cộng tác)`"
   ]
  },
  {
   "cell_type": "markdown",
   "id": "7037ce01",
   "metadata": {},
   "source": [
    "-Dựa trên hành vi của người dùng hoặc đánh giá của họ để đề xuất sản phẩm tương tự được đánh giá cao bởi người dùng khác.  \n",
    "-Phương pháp này có 2 dạng chính là:  \n",
    "+`User-Based Collaborative Filtering`: Tìm những người dùng có hành vi, sở thích tương tự với người dùng hiện tại. Sau đó dựa vào ma trận đánh giá, tính toán sự tương đồng giữa các cặp người dùng  \n",
    "+`Item-Based Collaborative Filtering`: Tìm sự tương đồng giữa các mục dựa trên cách người dùng đánh giá những sản phẩm. Sau đó dựa vào đánh giá của người dùng hiện tại để đề xuất các mục tương tự với những mục mà người dùng đã tương tác."
   ]
  },
  {
   "cell_type": "markdown",
   "id": "ce1b12d1",
   "metadata": {},
   "source": [
    "### `2. Content-Based Filtering (Lọc dựa trên nội dung)`"
   ]
  },
  {
   "cell_type": "markdown",
   "id": "12aa3687",
   "metadata": {},
   "source": [
    "-Đây là một phương pháp đề xuất dựa trên đặc điểm hoặc nội dung của sản phẩm và sở thích đã được biểu diễn bằng thông tin cá nhân của người dùng. Thay vì dựa vào hành vi của nhóm người dùng như Collaborative Filtering, Content-Based Filtering tập trung vào thuộc tính và đặc điểm của sản phẩm cũng như sở thích cá nhân của người dùng.  \n",
    "-Content-Based Filtering đưa ra đề xuất bằng cách sử dụng từ khóa và thuộc tính được gán cho các đối tượng trong cơ sở dữ liệu (ví dụ: các mặt hàng trên thị trường trực tuyến) và khớp chúng với hồ sơ người dùng.  \n",
    "-Dự án sẽ sử dụng phương pháp này  \n",
    "-Để hiểu rõ hơn thì vào link này: https://machinelearningcoban.com/2017/05/17/contentbasedrecommendersys/"
   ]
  },
  {
   "cell_type": "markdown",
   "id": "ed756c58",
   "metadata": {},
   "source": [
    "### `3. Hybrid Approaches (Phương pháp kết hợp)`"
   ]
  },
  {
   "cell_type": "markdown",
   "id": "008e5d07",
   "metadata": {},
   "source": [
    "-Phương pháp này là sự kết hợp của ít nhất hai phương pháp đề xuất khác nhau để tận dụng ưu điểm của từng phương pháp và giảm nhược điểm. Các phương pháp kết hợp thường kết hợp giữa Collaborative Filtering và Content-Based Filtering để cung cấp đề xuất cá nhân hóa chính xác và đa dạng."
   ]
  },
  {
   "cell_type": "markdown",
   "id": "8f45a1d4",
   "metadata": {},
   "source": [
    "# Cấu trúc của dự án"
   ]
  },
  {
   "cell_type": "markdown",
   "id": "1158eebd",
   "metadata": {},
   "source": [
    "![alternatvie text](https://i.postimg.cc/SRrhNYxz/Untitled-Diagram-drawio.png)"
   ]
  },
  {
   "cell_type": "markdown",
   "id": "90d684b0",
   "metadata": {},
   "source": [
    "-Có 4 quá trình trong cấu trúc dự án  \n",
    "+Dataset: đây là quá trình thu thập chọn lọc dữ liệu liên quan đến đề tài  \n",
    "+Pre-processing: đây là quá trình tiền xử lý là phân tích dữ liệu, lọc dữ liệu, xem xét các công nghệ phù hợp để sử dụng cho đề tài  \n",
    "+Model: đây là quá trình xây dựng model bằng các công nghệ đã lựa chọn ở pre-processing  \n",
    "+Web app: đây là quá trình xây dựng web app để trực quan hóa cách hoạt động của mô hình và sẽ deploy sever trên heroku"
   ]
  },
  {
   "cell_type": "markdown",
   "id": "9d21a1c9",
   "metadata": {},
   "source": [
    "## Dataset"
   ]
  },
  {
   "cell_type": "code",
   "execution_count": null,
   "id": "8ebf6d0f",
   "metadata": {},
   "outputs": [],
   "source": []
  }
 ],
 "metadata": {
  "kernelspec": {
   "display_name": "Python 3 (ipykernel)",
   "language": "python",
   "name": "python3"
  },
  "language_info": {
   "codemirror_mode": {
    "name": "ipython",
    "version": 3
   },
   "file_extension": ".py",
   "mimetype": "text/x-python",
   "name": "python",
   "nbconvert_exporter": "python",
   "pygments_lexer": "ipython3",
   "version": "3.11.5"
  }
 },
 "nbformat": 4,
 "nbformat_minor": 5
}
